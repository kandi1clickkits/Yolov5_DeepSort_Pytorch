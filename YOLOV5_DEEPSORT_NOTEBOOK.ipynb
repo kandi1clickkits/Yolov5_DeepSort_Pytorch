{
 "cells": [
  {
   "cell_type": "markdown",
   "id": "e0c63529",
   "metadata": {},
   "source": [
    "# Proctoring Assistant"
   ]
  },
  {
   "cell_type": "markdown",
   "id": "fa5a5599",
   "metadata": {},
   "source": [
    "<b>Note:</b> To run notebook cell by cell, click on a cell and click <b>Run</b> button below the <b>Menu</b> bar."
   ]
  },
  {
   "cell_type": "markdown",
   "id": "f4115cb4",
   "metadata": {},
   "source": [
    "### Proctoring video file & Saving Tracking Results"
   ]
  },
  {
   "cell_type": "code",
   "execution_count": null,
   "id": "384d9dae",
   "metadata": {},
   "outputs": [],
   "source": [
    "!python track.py --source yolov5/data/Demo3.mp4 --show-vid --classes 0 77 83 --save-vid --save-txt   "
   ]
  },
  {
   "cell_type": "markdown",
   "id": "d2377379",
   "metadata": {},
   "source": [
    "### Explore more commands\n",
    "#### Proctoring through webcam"
   ]
  },
  {
   "cell_type": "code",
   "execution_count": null,
   "id": "682acf7a",
   "metadata": {},
   "outputs": [],
   "source": [
    "!python track.py --source 0  "
   ]
  },
  {
   "cell_type": "markdown",
   "id": "4a79a52d",
   "metadata": {},
   "source": [
    "#### Tracking only persons and Saving tracking results "
   ]
  },
  {
   "cell_type": "code",
   "execution_count": null,
   "id": "ba0d90ec",
   "metadata": {},
   "outputs": [],
   "source": [
    "!python track.py --source 0 --classes 0 77 83 --save-txt"
   ]
  },
  {
   "cell_type": "markdown",
   "id": "109dfbb6",
   "metadata": {},
   "source": [
    "### Press q to stop tracking objects."
   ]
  },
  {
   "cell_type": "markdown",
   "id": "bff5e6ba",
   "metadata": {},
   "source": [
    "Refer https://github.com/kandikits/Yolov5_DeepSort_Pytorch/blob/master/README.md for exploring more specific information."
   ]
  }
 ],
 "metadata": {
  "kernelspec": {
   "display_name": "Python 3 (ipykernel)",
   "language": "python",
   "name": "python3"
  },
  "language_info": {
   "codemirror_mode": {
    "name": "ipython",
    "version": 3
   },
   "file_extension": ".py",
   "mimetype": "text/x-python",
   "name": "python",
   "nbconvert_exporter": "python",
   "pygments_lexer": "ipython3",
   "version": "3.9.7"
  }
 },
 "nbformat": 4,
 "nbformat_minor": 5
}
